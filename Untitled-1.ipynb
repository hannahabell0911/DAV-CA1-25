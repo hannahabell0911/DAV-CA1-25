{
 "cells": [
  {
   "cell_type": "markdown",
   "metadata": {},
   "source": [
    "<h3>Theoretical Framework: Higher Education Affordability vs. Economic Strength Index (HEAEI)</h3>\n",
    "\n",
    "<p> In 2025 there are many countries around the world, including Ireland which are facing a cost of living crisis. The cost of most things has risen, including higher education, which is making it harder for students worldwide to access. Tution fees have increased by approx 460% over the past 50 years, which has even outpaced inflation, according to (WGU, 2022).</p>\n",
    "<p> I want to look at this issue in a way that takes in realistic economic factors, aswell as information on universities in order to paint a more accurate picture to create this index.I will be comparing my higher education data to a country's economic strength (their GDP per capita). If I was to only consider the university data, I would not be able to properly analyse and visualise this data, and tell if a universities tution fees accuratly represents a countries econmic status.</p>\n"
   ]
  },
  {
   "cell_type": "code",
   "execution_count": null,
   "metadata": {},
   "outputs": [],
   "source": []
  }
 ],
 "metadata": {
  "kernelspec": {
   "display_name": "Python 3",
   "language": "python",
   "name": "python3"
  },
  "language_info": {
   "codemirror_mode": {
    "name": "ipython",
    "version": 3
   },
   "file_extension": ".py",
   "mimetype": "text/x-python",
   "name": "python",
   "nbconvert_exporter": "python",
   "pygments_lexer": "ipython3",
   "version": "3.9.6"
  }
 },
 "nbformat": 4,
 "nbformat_minor": 2
}
