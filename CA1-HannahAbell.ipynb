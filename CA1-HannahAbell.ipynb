{
 "cells": [
  {
   "cell_type": "markdown",
   "metadata": {},
   "source": [
    "<h3>Theoretical Framework: Higher Education Affordability vs. Economic Strength Index (HEAEI)</h3>\n",
    "\n",
    "<h5>Introduction and Justification of this Index</h5>\n",
    "<p> In 2025 there are many countries around the world, including Ireland which are facing a cost of living crisis. The cost of most things has risen, including higher education, which is making it harder for students worldwide to access. Tution fees have increased by approx 460% over the past 50 years, which has even outpaced inflation, according to (WGU, 2022). Whil some nations do offer free or a lower-cost education, other countries charge extreme and I think this will be interesting to compare.</p>\n",
    "<p> I want to look at this issue in a way that takes in realistic economic factors, aswell as information on universities in order to paint a more accurate picture to create this index.I will be comparing my higher education data to a country's economic strength (their GDP per capita). If I was to only consider the university data, I would not be able to properly analyse and visualise this data, and tell if a universities tution fees accuratly represents a countries econmic status.</p>\n",
    "\n",
    "<h5>Purpose of this Composite Index</h5>\n",
    "<p> The Higher Education Affordability vs. Economic Strength Index (HEAEI) will be aiming to rank countries based on the affordability of the higher education systems, relative to their economic capacity, which is defind as \"The amount an economy can produce using current capital at full tilt\" () . There will be multiple factors combined and compared in this Index, which will allow me to easily comapre various countries for the best outcome.\n",
    "<h5>The main goals of the HEAEI Index</h5>\n",
    "<ul>\n",
    "<li> To find which countries offer the most affordable education based on their economic capacity</li>\n",
    "<li>Identify countries where the tution fees are much higher when compared to GDP per capita.</li>\n",
    "</ul>\n",
    "\n",
    "This index will be created using two datasets:\n",
    "\n",
    "1. Global Tuition Fees & Education Trends 2024\n",
    "Link: https://www.kaggle.com/datasets/kathrinaroldan/global-tuition-fees-and-education-trends-2024\n",
    "Key variables:\n",
    "<ul>\n",
    "<li>Public university tuition fees</li>\n",
    "<li>Private university tuition fees</li>\n",
    "<li>Number of universities</li>\n",
    "<li>Enrollment counts</li>\n",
    "</ul>\n",
    "2. World Bank GDP per Capita\n",
    "Link: https://data.worldbank.org/indicator/NY.GDP.PCAP.CD\n",
    "Key variable:\n",
    "<ul>\n",
    "<li>GDP per capita (latest year available)</li>\n",
    "\n"
   ]
  },
  {
   "cell_type": "markdown",
   "metadata": {},
   "source": [
    "<h3>References</h3>\n",
    "<p>1. Ahmed-Haq, R. (2012) What is economic capacity? Economic News, 18 October. Available at: https://rates.ca/resources/what-is-economic-capacity (Accessed: 19 March 2025).\n",
    "2. Western Governors University (2022) Affordability and value in higher education. Available at: https://www.wgu.edu/blog/affordability-value-higher-education-advocate-post2211.html (Accessed: 19 March 2025).\n"
   ]
  },
  {
   "cell_type": "code",
   "execution_count": 11,
   "metadata": {},
   "outputs": [
    {
     "name": "stdout",
     "output_type": "stream",
     "text": [
      "Defaulting to user installation because normal site-packages is not writeable\n",
      "Requirement already satisfied: pandas in /Users/hannahabell/Library/Python/3.9/lib/python/site-packages (2.2.3)\n",
      "Requirement already satisfied: openpyxl in /Users/hannahabell/Library/Python/3.9/lib/python/site-packages (3.1.5)\n",
      "Requirement already satisfied: pytz>=2020.1 in /Users/hannahabell/Library/Python/3.9/lib/python/site-packages (from pandas) (2025.1)\n",
      "Requirement already satisfied: tzdata>=2022.7 in /Users/hannahabell/Library/Python/3.9/lib/python/site-packages (from pandas) (2025.1)\n",
      "Requirement already satisfied: numpy>=1.22.4 in /Users/hannahabell/Library/Python/3.9/lib/python/site-packages (from pandas) (2.0.2)\n",
      "Requirement already satisfied: python-dateutil>=2.8.2 in /Users/hannahabell/Library/Python/3.9/lib/python/site-packages (from pandas) (2.9.0.post0)\n",
      "Requirement already satisfied: et-xmlfile in /Users/hannahabell/Library/Python/3.9/lib/python/site-packages (from openpyxl) (2.0.0)\n",
      "Requirement already satisfied: six>=1.5 in /Users/hannahabell/Library/Python/3.9/lib/python/site-packages (from python-dateutil>=2.8.2->pandas) (1.17.0)\n",
      "\u001b[33mWARNING: You are using pip version 21.2.4; however, version 25.0.1 is available.\n",
      "You should consider upgrading via the '/Library/Developer/CommandLineTools/usr/bin/python3 -m pip install --upgrade pip' command.\u001b[0m\n",
      "Note: you may need to restart the kernel to use updated packages.\n"
     ]
    }
   ],
   "source": [
    "%pip install pandas openpyxl\n",
    "import pandas as pd\n",
    "\n",
    "tuition_df = pd.read_csv(\"tuition_fees.csv\")\n",
    "gdp_df = pd.read_csv(\"gdp_per_capita.csv\", skiprows=4)"
   ]
  },
  {
   "cell_type": "code",
   "execution_count": 22,
   "metadata": {},
   "outputs": [],
   "source": [
    "# Clean gdp_df\n",
    "gdp_df_cleaned = gdp_df.drop(columns=['Indicator Name', 'Indicator Code', 'Unnamed: 68'])  # Drop unnecessary columns\n",
    "gdp_df_cleaned = gdp_df_cleaned.dropna(how='all', subset=gdp_df_cleaned.columns[4:])  # Drop rows with all NaN GDP values\n",
    "gdp_df_cleaned = gdp_df_cleaned.rename(columns={'Country Name': 'Country', 'Country Code': 'Code'})  # Rename columns\n",
    "# Keep only the latest GDP year\n",
    "gdp_df_cleaned = gdp_df_cleaned[[\"Country\", \"2022\"]]\n",
    "gdp_df_cleaned = gdp_df_cleaned.rename(columns={\"2022\": \"GDP per Capita (USD)\"})\n",
    "\n",
    "gdp_df_cleaned[\"Country\"] = gdp_df_cleaned[\"Country\"].str.strip().str.lower()\n",
    "tuition_df_cleaned[\"Country\"] = tuition_df_cleaned[\"Country\"].str.strip().str.lower()\n",
    "\n",
    "# Clean tuition_df\n",
    "tuition_df_cleaned = tuition_df.copy()\n",
    "tuition_df_cleaned = tuition_df_cleaned.rename(columns={\n",
    "    'Average Tuition Fee (USD)': 'Avg Tuition Fee (USD)',\n",
    "    'Min Tuition Fee (USD)': 'Min Tuition Fee (USD)',\n",
    "    'Max Tuition Fee (USD)': 'Max Tuition Fee (USD)',\n",
    "    'No. of Private Universities': 'Private Universities',\n",
    "    'No. of Public Universities': 'Public Universities',\n",
    "    'Percentage of Private Universities (%)': 'Private Univ (%)',\n",
    "    'Total Students in Higher Education (millions)': 'Total Students (millions)',\n",
    "    'Students in Private Universities (millions)': 'Private Students (millions)',\n",
    "    'Students in Public Universities (millions)': 'Public Students (millions)',\n",
    "    'Students in Vocational Courses (millions)': 'Vocational Students (millions)',\n",
    "    'Students Not Studying (millions)': 'Not Studying (millions)',\n",
    "    'Cost of Living Index': 'Cost of Living',\n",
    "    'Scholarship Availability (%)': 'Scholarship (%)'\n",
    "})  # Rename columns\n"
   ]
  },
  {
   "cell_type": "code",
   "execution_count": 20,
   "metadata": {},
   "outputs": [
    {
     "name": "stdout",
     "output_type": "stream",
     "text": [
      "Country                  0\n",
      "Year                     0\n",
      "Avg Tuition Fee (USD)    0\n",
      "Min Tuition Fee (USD)    0\n",
      "Max Tuition Fee (USD)    0\n",
      "                        ..\n",
      "2019                     0\n",
      "2020                     0\n",
      "2021                     0\n",
      "2022                     0\n",
      "2023                     0\n",
      "Length: 81, dtype: int64\n",
      "Column 'GDP per Capita (USD)' not found. Please verify the column names in gdp_df_cleaned.\n"
     ]
    },
    {
     "name": "stderr",
     "output_type": "stream",
     "text": [
      "/var/folders/gy/g9yd205j3wg5vf83cpcgvbc00000gn/T/ipykernel_87543/1226117778.py:8: FutureWarning: A value is trying to be set on a copy of a DataFrame or Series through chained assignment using an inplace method.\n",
      "The behavior will change in pandas 3.0. This inplace method will never work because the intermediate object on which we are setting values always behaves as a copy.\n",
      "\n",
      "For example, when doing 'df[col].method(value, inplace=True)', try using 'df.method({col: value}, inplace=True)' or df[col] = df[col].method(value) instead, to perform the operation inplace on the original object.\n",
      "\n",
      "\n",
      "  merged_df[\"Avg Tuition Fee (USD)\"].fillna(merged_df[\"Avg Tuition Fee (USD)\"].mean(), inplace=True)\n"
     ]
    }
   ],
   "source": [
    "#logic from chat gpt errors fixed with co-pilot and stack overflow\n",
    "merged_df = pd.merge(tuition_df_cleaned, gdp_df_cleaned, on=\"Country\", how=\"inner\")\n",
    "\n",
    "# Check for missing values\n",
    "print(merged_df.isnull().sum())\n",
    "\n",
    "# Fill missing values with column average\n",
    "merged_df[\"Avg Tuition Fee (USD)\"].fillna(merged_df[\"Avg Tuition Fee (USD)\"].mean(), inplace=True)\n",
    "# Ensure the correct column name is used\n",
    "if \"GDP per Capita (USD)\" not in merged_df.columns:\n",
    "\tprint(\"Column 'GDP per Capita (USD)' not found. Please verify the column names in gdp_df_cleaned.\")\n",
    "else:\n",
    "\tmerged_df[\"GDP per Capita (USD)\"].fillna(merged_df[\"GDP per Capita (USD)\"].mean(), inplace=True)"
   ]
  }
 ],
 "metadata": {
  "kernelspec": {
   "display_name": "Python 3",
   "language": "python",
   "name": "python3"
  },
  "language_info": {
   "codemirror_mode": {
    "name": "ipython",
    "version": 3
   },
   "file_extension": ".py",
   "mimetype": "text/x-python",
   "name": "python",
   "nbconvert_exporter": "python",
   "pygments_lexer": "ipython3",
   "version": "3.9.6"
  }
 },
 "nbformat": 4,
 "nbformat_minor": 2
}
